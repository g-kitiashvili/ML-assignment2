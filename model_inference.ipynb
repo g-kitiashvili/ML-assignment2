{
 "cells": [
  {
   "metadata": {},
   "cell_type": "markdown",
   "source": "# Import/Setup",
   "id": "8f16e69f285cb8a8"
  },
  {
   "metadata": {
    "ExecuteTime": {
     "end_time": "2025-04-23T13:04:36.022478Z",
     "start_time": "2025-04-23T13:04:33.904271Z"
    }
   },
   "cell_type": "code",
   "source": [
    "import pandas as pd\n",
    "import numpy as np\n",
    "import mlflow\n",
    "import mlflow.sklearn\n",
    "import os\n",
    "from datetime import datetime\n",
    "import gc\n",
    "import warnings\n",
    "from sklearn.preprocessing import LabelEncoder\n",
    "\n",
    "warnings.filterwarnings('ignore')\n",
    "\n",
    "os.environ['MLFLOW_TRACKING_URI'] = 'https://dagshub.com/g-kitiashvili/ML-assignment2.mlflow'\n",
    "os.environ['MLFLOW_TRACKING_USERNAME'] = 'g-kitiashvili'\n",
    "os.environ['MLFLOW_TRACKING_PASSWORD'] = '1c2227158cc19daf66bb3b241116a8e8c5f1cd20'\n",
    "mlflow.set_experiment(\"Model_Inference\")\n"
   ],
   "id": "860128d3e88479d7",
   "outputs": [
    {
     "data": {
      "text/plain": [
       "<Experiment: artifact_location='mlflow-artifacts:/3c7f6a385b7b4a07b71d6770ad1431e3', creation_time=1745410111300, experiment_id='4', last_update_time=1745410111300, lifecycle_stage='active', name='Model_Inference', tags={}>"
      ]
     },
     "execution_count": 1,
     "metadata": {},
     "output_type": "execute_result"
    }
   ],
   "execution_count": 1
  },
  {
   "metadata": {},
   "cell_type": "markdown",
   "source": "# Load test data",
   "id": "218fce3432287a9e"
  },
  {
   "metadata": {
    "ExecuteTime": {
     "end_time": "2025-04-23T13:04:51.658712Z",
     "start_time": "2025-04-23T13:04:39.878898Z"
    }
   },
   "cell_type": "code",
   "source": [
    "print(\"Loading test data...\")\n",
    "test_transaction = pd.read_csv('./data/test_transaction.csv')\n",
    "test_identity = pd.read_csv('./data/test_identity.csv')\n",
    "print(f\"Test transaction shape: {test_transaction.shape}\")\n",
    "print(f\"Test identity shape: {test_identity.shape}\")\n",
    "\n",
    "print(\"Merging test data...\")\n",
    "test = test_transaction.merge(test_identity, on='TransactionID', how='left')\n",
    "print(f\"Merged test shape: {test.shape}\")\n",
    "\n",
    "test_transaction_id = test['TransactionID'].copy()\n",
    "\n",
    "del test_transaction, test_identity\n",
    "gc.collect()"
   ],
   "id": "df4827952e7506c5",
   "outputs": [
    {
     "name": "stdout",
     "output_type": "stream",
     "text": [
      "Loading test data...\n",
      "Test transaction shape: (506691, 393)\n",
      "Test identity shape: (141907, 41)\n",
      "Merging test data...\n",
      "Merged test shape: (506691, 433)\n"
     ]
    },
    {
     "data": {
      "text/plain": [
       "144"
      ]
     },
     "execution_count": 2,
     "metadata": {},
     "output_type": "execute_result"
    }
   ],
   "execution_count": 2
  },
  {
   "metadata": {},
   "cell_type": "markdown",
   "source": "# Load best model",
   "id": "7af0940ac8f70fd1"
  },
  {
   "metadata": {
    "ExecuteTime": {
     "end_time": "2025-04-23T13:05:01.137739Z",
     "start_time": "2025-04-23T13:04:57.202571Z"
    }
   },
   "cell_type": "code",
   "source": [
    "with mlflow.start_run(run_name=\"Load_Best_Model\"):\n",
    "    best_model_name = \"XGBoost_Model\"\n",
    "    print(f\"Loading model: {best_model_name}\")\n",
    "    model = mlflow.sklearn.load_model(f\"models:/{best_model_name}/latest\")\n",
    "    mlflow.log_param(\"model_name\", best_model_name)\n",
    "    print(\"Model loaded successfully.\")"
   ],
   "id": "d26a11c86c055645",
   "outputs": [
    {
     "name": "stdout",
     "output_type": "stream",
     "text": [
      "Loading model: XGBoost_Model\n"
     ]
    },
    {
     "name": "stderr",
     "output_type": "stream",
     "text": [
      "Downloading artifacts: 100%|██████████| 5/5 [00:00<00:00,  7.55it/s]\n"
     ]
    },
    {
     "name": "stdout",
     "output_type": "stream",
     "text": [
      "Model loaded successfully.\n",
      "🏃 View run Load_Best_Model at: https://dagshub.com/g-kitiashvili/ML-assignment2.mlflow/#/experiments/4/runs/dde471d397784e93bacebf5c00b50a42\n",
      "🧪 View experiment at: https://dagshub.com/g-kitiashvili/ML-assignment2.mlflow/#/experiments/4\n"
     ]
    }
   ],
   "execution_count": 3
  },
  {
   "metadata": {},
   "cell_type": "markdown",
   "source": "# Preprocess & Predict",
   "id": "4ff5ba21138e45d"
  },
  {
   "metadata": {
    "ExecuteTime": {
     "end_time": "2025-04-23T13:05:11.800887Z",
     "start_time": "2025-04-23T13:05:05.068232Z"
    }
   },
   "cell_type": "code",
   "source": [
    "with mlflow.start_run(run_name=\"Generate_Predictions\"):\n",
    "    print(\"Preprocessing test data...\")\n",
    "    test_encoded = test.copy()\n",
    "\n",
    "    obj_cols = test_encoded.select_dtypes(include=['object']).columns.tolist()\n",
    "    print(f\"Found {len(obj_cols)} object columns.\")\n",
    "    for col in obj_cols:\n",
    "        le = LabelEncoder()\n",
    "        test_encoded[col] = test_encoded[col].fillna('missing').astype(str)\n",
    "        test_encoded[col] = le.fit_transform(test_encoded[col])\n",
    "\n",
    "    # Convert any remaining object columns to numeric\n",
    "    for col in test_encoded.columns:\n",
    "        if test_encoded[col].dtype == 'object':\n",
    "            test_encoded[col] = pd.to_numeric(test_encoded[col], errors='coerce').fillna(-999)\n",
    "\n",
    "    print(\"Encoding complete.\")\n",
    "\n",
    "    # Align features with training\n",
    "    booster = model.get_booster()\n",
    "    train_feats = booster.feature_names\n",
    "\n",
    "    extras = [c for c in test_encoded.columns if c not in train_feats]\n",
    "    if extras:\n",
    "        print(f\"Dropping {len(extras)} extra columns.\")\n",
    "        test_encoded.drop(columns=extras, inplace=True)\n",
    "\n",
    "    # Add missing columns\n",
    "    for c in train_feats:\n",
    "        if c not in test_encoded.columns:\n",
    "            test_encoded[c] = 0\n",
    "\n",
    "    test_aligned = test_encoded[train_feats]\n",
    "    print(\"Feature alignment done.\")\n",
    "\n",
    "    # Generate predictions\n",
    "    test_probs = model.predict_proba(test_aligned)[:, 1]\n",
    "    print(\"Predictions generated.\")\n",
    "    mlflow.log_param(\"num_test_rows\", test_aligned.shape[0])"
   ],
   "id": "5ed982e5bd3989ab",
   "outputs": [
    {
     "name": "stdout",
     "output_type": "stream",
     "text": [
      "Preprocessing test data...\n",
      "Found 31 object columns.\n",
      "Encoding complete.\n",
      "Dropping 94 extra columns.\n",
      "Feature alignment done.\n",
      "Predictions generated.\n",
      "🏃 View run Generate_Predictions at: https://dagshub.com/g-kitiashvili/ML-assignment2.mlflow/#/experiments/4/runs/9bd00f1e8079424b94dc6d4c40db3fa2\n",
      "🧪 View experiment at: https://dagshub.com/g-kitiashvili/ML-assignment2.mlflow/#/experiments/4\n"
     ]
    }
   ],
   "execution_count": 4
  },
  {
   "metadata": {},
   "cell_type": "markdown",
   "source": "# Build submission DataFrame and save",
   "id": "c77af28326d24c04"
  },
  {
   "metadata": {
    "ExecuteTime": {
     "end_time": "2025-04-23T13:05:25.537383Z",
     "start_time": "2025-04-23T13:05:16.348646Z"
    }
   },
   "cell_type": "code",
   "source": [
    "submission = pd.DataFrame({\n",
    "    'TransactionID': test_transaction_id,\n",
    "    'isFraud': test_probs\n",
    "})\n",
    "with mlflow.start_run(run_name=\"Save_Submission\"):\n",
    "    submission_file = f\"{best_model_name}_submission_{datetime.now().strftime('%Y%m%d_%H%M')}.csv\"\n",
    "    submission.to_csv(submission_file, index=False)\n",
    "    print(f\"Submission saved to: {submission_file}\")\n",
    "    mlflow.log_artifact(submission_file)\n",
    "\n",
    "    print(submission.head())\n",
    "    print(f\"Total predictions: {len(submission)}\")\n",
    "    print(f\"Prediction range: [{submission['isFraud'].min():.6f}, {submission['isFraud'].max():.6f}]\")\n",
    "    print(f\"Mean prediction: {submission['isFraud'].mean():.6f}\")\n",
    "    print(f\">0.5 flag count: {(submission['isFraud']>0.5).sum()} ({(submission['isFraud']>0.5).mean()*100:.2f}%)\")\n"
   ],
   "id": "c246d2d3368bd87d",
   "outputs": [
    {
     "name": "stdout",
     "output_type": "stream",
     "text": [
      "Submission saved to: XGBoost_Model_submission_20250423_1705.csv\n",
      "   TransactionID   isFraud\n",
      "0        3663549  0.004157\n",
      "1        3663550  0.002563\n",
      "2        3663551  0.008957\n",
      "3        3663552  0.005339\n",
      "4        3663553  0.001406\n",
      "Total predictions: 506691\n",
      "Prediction range: [0.000009, 0.991089]\n",
      "Mean prediction: 0.020070\n",
      ">0.5 flag count: 3444 (0.68%)\n",
      "🏃 View run Save_Submission at: https://dagshub.com/g-kitiashvili/ML-assignment2.mlflow/#/experiments/4/runs/8b267833826d42118d80c3073492301e\n",
      "🧪 View experiment at: https://dagshub.com/g-kitiashvili/ML-assignment2.mlflow/#/experiments/4\n"
     ]
    }
   ],
   "execution_count": 5
  },
  {
   "metadata": {},
   "cell_type": "code",
   "outputs": [],
   "execution_count": null,
   "source": "",
   "id": "fdf2ea6edf65397c"
  }
 ],
 "metadata": {
  "kernelspec": {
   "display_name": "Python 3",
   "language": "python",
   "name": "python3"
  },
  "language_info": {
   "codemirror_mode": {
    "name": "ipython",
    "version": 2
   },
   "file_extension": ".py",
   "mimetype": "text/x-python",
   "name": "python",
   "nbconvert_exporter": "python",
   "pygments_lexer": "ipython2",
   "version": "2.7.6"
  }
 },
 "nbformat": 4,
 "nbformat_minor": 5
}
